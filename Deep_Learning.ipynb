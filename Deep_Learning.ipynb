{
 "cells": [
  {
   "cell_type": "markdown",
   "id": "2859fb16",
   "metadata": {},
   "source": [
    "# Deep Q Learning\n",
    "\n",
    "#### Can I take the findings from Q-Learning, and extend it to a deep learning framework?\n",
    "\n",
    "#### Use this framework to incorporate Card Count?"
   ]
  },
  {
   "cell_type": "code",
   "execution_count": 1,
   "id": "96b56034",
   "metadata": {},
   "outputs": [],
   "source": [
    "# For some reason, importing this first doesn't crash the kernel\n",
    "\n",
    "import torch\n",
    "import torch.nn as nn"
   ]
  },
  {
   "cell_type": "code",
   "execution_count": 3,
   "id": "263e4528",
   "metadata": {},
   "outputs": [],
   "source": [
    "%load_ext autoreload\n",
    "%autoreload 2\n",
    "\n",
    "import numpy as np\n",
    "import matplotlib.pyplot as plt\n",
    "import pandas as pd\n",
    "\n",
    "# Custom Modules.\n",
    "from Game import Game\n",
    "from Player import Player\n",
    "\n",
    "# Custom Functions.\n",
    "from RecursePlayer import recursePlayer,dealHouse,getReward,getValue\n",
    "from Q_Learning import initQ,learnPolicy,evaluatePolicy,getBestAction\n",
    "from Utils import dfBestMove"
   ]
  },
  {
   "cell_type": "code",
   "execution_count": 2,
   "id": "0c7c5771",
   "metadata": {},
   "outputs": [
    {
     "name": "stdout",
     "output_type": "stream",
     "text": [
      "cpu\n"
     ]
    }
   ],
   "source": [
    "device = 'cuda:0' if torch.cuda.is_available() else 'cpu'\n",
    "print(device)"
   ]
  },
  {
   "cell_type": "markdown",
   "id": "f17c00b1",
   "metadata": {},
   "source": [
    "### Import learned Q function to be used for comparison"
   ]
  },
  {
   "cell_type": "code",
   "execution_count": 4,
   "id": "e7fe7453",
   "metadata": {},
   "outputs": [],
   "source": [
    "Qlearned = np.load('Q.npy',allow_pickle=True).item()"
   ]
  },
  {
   "cell_type": "code",
   "execution_count": 5,
   "id": "f66c9459",
   "metadata": {},
   "outputs": [],
   "source": [
    "blackjack = Game(Player)\n",
    "cardMap = blackjack.cardMap\n",
    "cardValues = blackjack.cardValues\n",
    "allCards = list(cardMap.values())\n",
    "\n",
    "card_comb_all = []\n",
    "card_comb = [[c1,c2] for i,c1 in enumerate(allCards) for c2 in allCards[i:]]\n",
    "all_comb = [[c1,c2] for c1 in allCards for c2 in allCards]\n",
    "for c in card_comb :\n",
    "    for a in all_comb :\n",
    "        card_comb_all.append([[c]]+[a])"
   ]
  },
  {
   "cell_type": "markdown",
   "id": "b2d2c576",
   "metadata": {},
   "source": [
    "### Observe distribution of Card Count in several games played.\n",
    "\n",
    "The module automatically handles reshuffling, so I can just repeat play without re-initializing the module.\n",
    "\n",
    "I have a \"ratio penetrate\" flag, which defaults to 4/6 . This means that the deck is reshuffled after it gets through 4/6'ths of the deck. I default to 6 deck game as well. You can adjust these values in the Game module.\n",
    "\n",
    "The distribution of count will be dependent on number of decks used, and ratio penetrate. Although with large ratio penetrate, the distribution might seem a bit misleading. This is because, if there is a large/small count at the point of reshuffling, we neglect the fact that if we play every card (instead of stopping short to reshuffle), the count will converge back to 0 by the end of the deck."
   ]
  },
  {
   "cell_type": "code",
   "execution_count": 9,
   "id": "ff522263",
   "metadata": {},
   "outputs": [
    {
     "data": {
      "image/png": "[encoded data removed]",
      "text/plain": [
       "<Figure size 1080x288 with 1 Axes>"
      ]
     },
     "metadata": {
      "needs_background": "light"
     },
     "output_type": "display_data"
    }
   ],
   "source": [
    "blackjack = Game(Player,verbose=False)\n",
    "count = []\n",
    "\n",
    "for _ in range(50000) :\n",
    "    \n",
    "    count.append(blackjack.count)\n",
    "    \n",
    "    blackjack.initRound(wagers=[1])\n",
    "    blackjack.dealInit()\n",
    "    player = blackjack.players[0] # only 1 player, so i'll just extract that specific player module.\n",
    "    houseShow = blackjack.getHouseShow(showValue=True)\n",
    "\n",
    "    while not player.isDone() :\n",
    "\n",
    "        playerShow,canSplit,useableAce,card1 = player.getValue()\n",
    "\n",
    "        policy = player.getValidMoves(houseShow)\n",
    "        policy = [p for p in policy if p!='insurance']\n",
    "        if canSplit :\n",
    "            move = getBestAction(Qlearned['canSplit'][(card1,houseShow,useableAce)],policy,-1,False)\n",
    "        else :\n",
    "            move = getBestAction(Qlearned['noSplit'][(playerShow,houseShow,useableAce)],policy,-1,False)\n",
    "\n",
    "        count.append(blackjack.count)\n",
    "\n",
    "        blackjack.stepPlayer(player,move)\n",
    "    blackjack.stepHouse()\n",
    "    \n",
    "plt.figure(figsize=(15,4))\n",
    "inds = np.argsort(pd.Series(count).value_counts(normalize=True).index.to_list())\n",
    "plt.bar(\n",
    "    pd.Series(count).value_counts(normalize=True).index[inds],\n",
    "    pd.Series(count).value_counts(normalize=True).values[inds]\n",
    ")\n",
    "plt.show()"
   ]
  },
  {
   "cell_type": "markdown",
   "id": "ae14ccb7",
   "metadata": {},
   "source": [
    "## Deep Q Learning\n",
    "\n",
    "\n",
    "The Q learning without card count is found in my previous notebook. While we determine the Q function explicitly, this requires access to all state-action pairs.\n",
    "\n",
    "In Deep Q Learning, we are ultimately approximating the Q function through use of linear + non-linear layers in a neural network, attempting to minimize MSE between predicted and actual Q values. We will ultimately be regressing the Q value for each possible action for a given state."
   ]
  },
  {
   "cell_type": "code",
   "execution_count": 10,
   "id": "90dfa2f1",
   "metadata": {},
   "outputs": [],
   "source": [
    "class Net(nn.Module) :\n",
    "    \n",
    "    def __init__(self, input_dim, output_dim, hidden_layers=[]) :\n",
    "        super(Net, self).__init__()\n",
    "        \n",
    "        assert len(hidden_layers) , \"must have at least 1 hidden layer\"\n",
    "        \n",
    "        self.input_dim = input_dim\n",
    "        self.output_dim = output_dim\n",
    "        self.hidden_layers = hidden_layers\n",
    "        self.fc_input = nn.Linear(self.input_dim, self.hidden_layers[0])\n",
    "        self.relu = nn.ReLU()\n",
    "        \n",
    "        self.fc_hidden = []\n",
    "        for i in range(len(self.hidden_layers)-1) :\n",
    "            self.fc_hidden.append(nn.Linear(self.hidden_layers[i], self.hidden_layers[i+1]))\n",
    "            \n",
    "        self.fc_output = nn.Linear(self.hidden_layers[-1], self.output_dim)\n",
    "        \n",
    "    def forward(self, data) :\n",
    "        \n",
    "        x = self.relu(self.fc_input(data))\n",
    "        \n",
    "        for layer in self.fc_hidden :\n",
    "            x = self.relu(layer(x))\n",
    "        \n",
    "        return self.fc_output(x)\n",
    "            \n"
   ]
  },
  {
   "cell_type": "code",
   "execution_count": 7,
   "id": "c22809a4",
   "metadata": {},
   "outputs": [],
   "source": [
    "class Net(nn.Module) :\n",
    "    \n",
    "    def __init__(self, input_dim, output_dim, hidden1, hidden2) :\n",
    "        super(Net, self).__init__()\n",
    "                \n",
    "        self.input_dim = input_dim\n",
    "        self.hidden1 = hidden1\n",
    "        self.hidden2 = hidden2\n",
    "        self.output_dim = output_dim\n",
    "        self.relu = nn.ReLU()\n",
    "        self.fc_input = nn.Linear(self.input_dim, self.hidden1)\n",
    "        self.fc_hidden = nn.Linear(self.hidden1, self.hidden2)\n",
    "        self.fc_output = nn.Linear(self.hidden2, self.output_dim)\n",
    "        \n",
    "    def forward(self, data) :\n",
    "        \n",
    "        x = self.relu(self.fc_input(data))\n",
    "        x = self.relu(self.fc_hidden(x))\n",
    "        \n",
    "        \n",
    "        return self.fc_output(x)"
   ]
  },
  {
   "cell_type": "code",
   "execution_count": 12,
   "id": "ff94f608",
   "metadata": {},
   "outputs": [],
   "source": [
    "net = Net(2,5,[10,12])"
   ]
  },
  {
   "cell_type": "code",
   "execution_count": 13,
   "id": "924b3260",
   "metadata": {},
   "outputs": [
    {
     "data": {
      "text/plain": [
       "tensor([ 0.1933,  0.0222, -0.3071,  0.3606, -0.2790], grad_fn=<AddBackward0>)"
      ]
     },
     "execution_count": 13,
     "metadata": {},
     "output_type": "execute_result"
    }
   ],
   "source": [
    "net.forward(torch.Tensor([1,2]))"
   ]
  },
  {
   "cell_type": "code",
   "execution_count": 61,
   "id": "6ce26db9",
   "metadata": {},
   "outputs": [],
   "source": [
    "net.zero_grad()"
   ]
  },
  {
   "cell_type": "code",
   "execution_count": null,
   "id": "29b0443d",
   "metadata": {},
   "outputs": [],
   "source": []
  }
 ],
 "metadata": {
  "kernelspec": {
   "display_name": "Python 3 (ipykernel)",
   "language": "python",
   "name": "python3"
  },
  "language_info": {
   "codemirror_mode": {
    "name": "ipython",
    "version": 3
   },
   "file_extension": ".py",
   "mimetype": "text/x-python",
   "name": "python",
   "nbconvert_exporter": "python",
   "pygments_lexer": "ipython3",
   "version": "3.9.7"
  }
 },
 "nbformat": 4,
 "nbformat_minor": 5
}
