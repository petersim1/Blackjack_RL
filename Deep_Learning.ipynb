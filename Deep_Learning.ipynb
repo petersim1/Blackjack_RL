{
 "cells": [
  {
   "cell_type": "markdown",
   "id": "2859fb16",
   "metadata": {},
   "source": [
    "# Deep Q Learning\n",
    "\n",
    "#### Can I take the findings from Q-Learning, and extend it to a deep learning framework?\n",
    "\n",
    "#### Use this framework to incorporate Card Count?"
   ]
  },
  {
   "cell_type": "code",
   "execution_count": 2,
   "id": "263e4528",
   "metadata": {},
   "outputs": [],
   "source": [
    "%load_ext autoreload\n",
    "%autoreload 2\n",
    "\n",
    "import numpy as np\n",
    "import matplotlib.pyplot as plt\n",
    "import pandas as pd\n",
    "\n",
    "# Custom Modules.\n",
    "from Game import Game\n",
    "from Player import Player\n",
    "\n",
    "# Custom Functions.\n",
    "from RecursePlayer import recursePlayer,dealHouse,getReward,getValue\n",
    "from Q_Learning import initQ,learnPolicy,evaluatePolicy,getBestAction\n",
    "from Utils import dfBestMove"
   ]
  },
  {
   "cell_type": "code",
   "execution_count": null,
   "id": "96b56034",
   "metadata": {},
   "outputs": [],
   "source": [
    "import torch\n",
    "import torch.nn as nn"
   ]
  },
  {
   "cell_type": "code",
   "execution_count": 1,
   "id": "0c7c5771",
   "metadata": {},
   "outputs": [
    {
     "ename": "NameError",
     "evalue": "name 'torch' is not defined",
     "output_type": "error",
     "traceback": [
      "\u001b[0;31m---------------------------------------------------------------------------\u001b[0m",
      "\u001b[0;31mNameError\u001b[0m                                 Traceback (most recent call last)",
      "\u001b[0;32m/var/folders/8g/n59c1c4n73g39nq_ky75ctj80000gn/T/ipykernel_91535/2196059219.py\u001b[0m in \u001b[0;36m<module>\u001b[0;34m\u001b[0m\n\u001b[0;32m----> 1\u001b[0;31m \u001b[0mdevice\u001b[0m \u001b[0;34m=\u001b[0m \u001b[0;34m'cuda:0'\u001b[0m \u001b[0;32mif\u001b[0m \u001b[0mtorch\u001b[0m\u001b[0;34m.\u001b[0m\u001b[0mcuda\u001b[0m\u001b[0;34m.\u001b[0m\u001b[0mis_available\u001b[0m\u001b[0;34m(\u001b[0m\u001b[0;34m)\u001b[0m \u001b[0;32melse\u001b[0m \u001b[0;34m'cpu'\u001b[0m\u001b[0;34m\u001b[0m\u001b[0;34m\u001b[0m\u001b[0m\n\u001b[0m\u001b[1;32m      2\u001b[0m \u001b[0mprint\u001b[0m\u001b[0;34m(\u001b[0m\u001b[0mdevice\u001b[0m\u001b[0;34m)\u001b[0m\u001b[0;34m\u001b[0m\u001b[0;34m\u001b[0m\u001b[0m\n",
      "\u001b[0;31mNameError\u001b[0m: name 'torch' is not defined"
     ]
    }
   ],
   "source": [
    "device = 'cuda:0' if torch.cuda.is_available() else 'cpu'\n",
    "print(device)"
   ]
  },
  {
   "cell_type": "markdown",
   "id": "f17c00b1",
   "metadata": {},
   "source": [
    "### Import learned Q function to be used for comparison"
   ]
  },
  {
   "cell_type": "code",
   "execution_count": 3,
   "id": "e7fe7453",
   "metadata": {},
   "outputs": [],
   "source": [
    "Qlearned = np.load('Q.npy',allow_pickle=True).item()"
   ]
  },
  {
   "cell_type": "code",
   "execution_count": 4,
   "id": "f66c9459",
   "metadata": {},
   "outputs": [],
   "source": [
    "blackjack = Game(Player)\n",
    "cardMap = blackjack.cardMap\n",
    "cardValues = blackjack.cardValues\n",
    "allCards = list(cardMap.values())\n",
    "\n",
    "card_comb_all = []\n",
    "card_comb = [[c1,c2] for i,c1 in enumerate(allCards) for c2 in allCards[i:]]\n",
    "all_comb = [[c1,c2] for c1 in allCards for c2 in allCards]\n",
    "for c in card_comb :\n",
    "    for a in all_comb :\n",
    "        card_comb_all.append([[c]]+[a])"
   ]
  },
  {
   "cell_type": "markdown",
   "id": "b2d2c576",
   "metadata": {},
   "source": [
    "### Observe distribution of Card Count in several games played.\n",
    "\n",
    "The module automatically handles reshuffling, so I can just repeat play without re-initializing the module.\n",
    "\n",
    "I have a \"ratio penetrate\" flag, which defaults to 4/6 . This means that the deck is reshuffled after it gets through 4/6'ths of the deck. I default to 6 deck game as well. You can adjust these values in the Game module.\n",
    "\n",
    "The distribution of count will be dependent on number of decks used, and ratio penetrate. Although with large ratio penetrate, the distribution might seem a bit misleading. This is because, if there is a large/small count at the point of reshuffling, we neglect the fact that if we play every card (instead of stopping short to reshuffle), the count will converge back to 0 by the end of the deck."
   ]
  },
  {
   "cell_type": "code",
   "execution_count": 232,
   "id": "ff522263",
   "metadata": {},
   "outputs": [
    {
     "data": {
      "image/png": "[encoded data removed]",
      "text/plain": [
       "<Figure size 1080x288 with 1 Axes>"
      ]
     },
     "metadata": {
      "needs_background": "light"
     },
     "output_type": "display_data"
    }
   ],
   "source": [
    "blackjack = Game(Player,verbose=False)\n",
    "count = []\n",
    "\n",
    "for _ in range(50000) :\n",
    "    \n",
    "    count.append(blackjack.count)\n",
    "    \n",
    "    blackjack.initRound(wagers=[1])\n",
    "    blackjack.dealInit()\n",
    "    player = blackjack.players[0] # only 1 player, so i'll just extract that specific player module.\n",
    "    houseShow = blackjack.getHouseShow(showValue=True)\n",
    "\n",
    "    while not player.isDone() :\n",
    "\n",
    "        playerShow,canSplit,useableAce,card1 = player.getValue()\n",
    "\n",
    "        policy = player.getValidMoves(houseShow)\n",
    "        policy = [p for p in policy if p!='insurance']\n",
    "        if canSplit :\n",
    "            move = getBestAction(Qlearned['canSplit'][(card1,houseShow,useableAce)],policy,-1,False)\n",
    "        else :\n",
    "            move = getBestAction(Qlearned['noSplit'][(playerShow,houseShow,useableAce)],policy,-1,False)\n",
    "\n",
    "        count.append(blackjack.count)\n",
    "\n",
    "        blackjack.stepPlayer(player,move)\n",
    "    blackjack.stepHouse()\n",
    "    \n",
    "plt.figure(figsize=(15,4))\n",
    "inds = np.argsort(pd.Series(count).value_counts(normalize=True).index.to_list())\n",
    "plt.bar(\n",
    "    pd.Series(count).value_counts(normalize=True).index[inds],\n",
    "    pd.Series(count).value_counts(normalize=True).values[inds]\n",
    ")\n",
    "plt.show()"
   ]
  },
  {
   "cell_type": "markdown",
   "id": "ae14ccb7",
   "metadata": {},
   "source": [
    "### Q Learning\n",
    "\n",
    "#### Explicitly finding q function based off state-action pairs through iterative learning. We neglect Card Count since the space would grow far too large otherwise.\n",
    "\n",
    "This finding/learning is from my previous notebook."
   ]
  },
  {
   "cell_type": "code",
   "execution_count": 313,
   "id": "8d8469c5",
   "metadata": {},
   "outputs": [],
   "source": [
    "acceptedQ = initQ(['stay','hit','split','double','insurance','surrender'],allCards)\n",
    "for split,s_pairs in acceptedQ.items() :\n",
    "    for s,vals in s_pairs.items() :\n",
    "        p,h,a = s\n",
    "        if split==\"canSplit\" :\n",
    "            if p == \"A\" :\n",
    "                p = 11\n",
    "            if p <= 3 :\n",
    "                if h <= 7 :\n",
    "                    vals[\"split\"] = 1\n",
    "                else :\n",
    "                    vals[\"hit\"] = 1\n",
    "            if p == 4 :\n",
    "                if h in [5,6] :\n",
    "                    vals[\"split\"] = 1\n",
    "                else :\n",
    "                    vals[\"hit\"] = 1\n",
    "            if p == 5 :\n",
    "                if h <= 9 :\n",
    "                    vals[\"double\"] = 1\n",
    "                else :\n",
    "                    vals[\"hit\"] = 1\n",
    "            if p == 6 :\n",
    "                if h <= 6 :\n",
    "                    vals[\"split\"] = 1\n",
    "                else :\n",
    "                    vals[\"hit\"] = 1\n",
    "            if p == 7 :\n",
    "                if h <= 7 :\n",
    "                    vals[\"split\"] = 1\n",
    "                else :\n",
    "                    vals[\"hit\"] = 1\n",
    "            if p == 8 :\n",
    "                vals[\"split\"] = 1\n",
    "            if p == 9 :\n",
    "                if h in [2,3,4,5,6,8,9] :\n",
    "                    vals[\"split\"] = 1\n",
    "                else :\n",
    "                    vals[\"stay\"] = 1\n",
    "            if p == 10 :\n",
    "                vals[\"stay\"] = 1\n",
    "            if p == 11 :\n",
    "                vals[\"split\"] = 1\n",
    "        else :\n",
    "            if not a :\n",
    "                if p <= 8 :\n",
    "                    vals[\"hit\"] = 1\n",
    "                if p == 9 :\n",
    "                    if h in [2,7,8,9,10,11] :\n",
    "                        vals[\"hit\"] = 1\n",
    "                    else :\n",
    "                        vals[\"double\"] = 1\n",
    "                if p == 10 :\n",
    "                    if h <= 9 :\n",
    "                        vals[\"double\"] = 1\n",
    "                    else :\n",
    "                        vals[\"hit\"] = 1\n",
    "                if p == 11 :\n",
    "                    vals[\"double\"] = 1\n",
    "                if p == 12 :\n",
    "                    if 4 <= h <= 6 :\n",
    "                        vals[\"stay\"] = 1\n",
    "                    else :\n",
    "                        vals[\"hit\"] = 1\n",
    "                if p in [13,14] :\n",
    "                    if h <= 6 :\n",
    "                        vals[\"stay\"] = 1\n",
    "                    else :\n",
    "                        vals[\"hit\"] = 1\n",
    "                if p == 15 :\n",
    "                    if h <= 6 :\n",
    "                        vals[\"stay\"] = 1\n",
    "                    else :\n",
    "                        if h == 10 :\n",
    "                            vals[\"surrender\"] = 1\n",
    "                        else :\n",
    "                            vals[\"hit\"] = 1\n",
    "                if p == 16 :\n",
    "                    if h <= 6 :\n",
    "                        vals[\"stay\"] = 1\n",
    "                    else :\n",
    "                        if h >= 9 :\n",
    "                            vals[\"surrender\"] = 1\n",
    "                        else :\n",
    "                            vals[\"hit\"] = 1\n",
    "                if p >= 17 :\n",
    "                    vals[\"stay\"] = 1\n",
    "            else :\n",
    "                if p in [13,14] :\n",
    "                    if h in [5,6] :\n",
    "                        vals[\"double\"] = 1\n",
    "                    else :\n",
    "                        vals[\"hit\"] = 1\n",
    "                if p in [15,16] :\n",
    "                    if h in [4,5,6] :\n",
    "                        vals[\"double\"] = 1\n",
    "                    else :\n",
    "                        vals[\"hit\"] = 1\n",
    "                if p == 17 :\n",
    "                    if h in [3,4,5,6] :\n",
    "                        vals[\"double\"] = 1\n",
    "                    else :\n",
    "                        vals[\"hit\"] = 1\n",
    "                if p == 18 :\n",
    "                    if h <= 6 :\n",
    "                        vals[\"double\"] = 1\n",
    "                    else :\n",
    "                        if h <= 8 :\n",
    "                            vals[\"stay\"] = 1\n",
    "                        else :\n",
    "                            vals[\"hit\"] = 1\n",
    "                if p == 19 :\n",
    "                    if h == 6 :\n",
    "                        vals[\"double\"] = 1\n",
    "                    else :\n",
    "                        vals[\"stay\"] = 1\n",
    "                if p == 20 :\n",
    "                    vals[\"stay\"] = 1          "
   ]
  },
  {
   "cell_type": "code",
   "execution_count": 315,
   "id": "b87a5312",
   "metadata": {
    "scrolled": false
   },
   "outputs": [],
   "source": [
    "%%capture\n",
    "for split, s_pairs in Qlearned.items() :\n",
    "    for s, vals in s_pairs.items() :\n",
    "        learnedBest = max(vals, key=vals.get)\n",
    "        optimalBest = max(acceptedQ[split][s], key=acceptedQ[split][s].get)\n",
    "        \n",
    "        if learnedBest != optimalBest :\n",
    "            \n",
    "            secondBest = list(vals.values())[np.argsort(list(vals.values()))[-2]]\n",
    "            \n",
    "            print(split, s, optimalBest, learnedBest)\n",
    "            print('\\t', round(vals[learnedBest],5), round(secondBest,5))"
   ]
  },
  {
   "cell_type": "code",
   "execution_count": 298,
   "id": "03ecead7",
   "metadata": {},
   "outputs": [
    {
     "name": "stdout",
     "output_type": "stream",
     "text": [
      "Generating Learned Rewards Deterministically...\n",
      "Generating Meh Rewards... (mimics house play, ie. hit until 17 or greater)\n",
      "Generating Accepted Rewards... (found online to be optimal play)\n",
      "Generating Random Rewards\n",
      "Done\n"
     ]
    },
    {
     "data": {
      "image/png": "[encoded data removed]",
      "text/plain": [
       "<Figure size 432x288 with 1 Axes>"
      ]
     },
     "metadata": {
      "needs_background": "light"
     },
     "output_type": "display_data"
    }
   ],
   "source": [
    "nRoundsEvaluate = 1000 # number of rounds to play\n",
    "nIterations = 50 # number of times to play above number of rounds (average is taken)\n",
    "\n",
    "nPlayers = 1\n",
    "nDecks = 6\n",
    "ratioPenetrate = 4/6\n",
    "wagers = [1]*nPlayers\n",
    "\n",
    "print('Generating Learned Rewards Deterministically...')\n",
    "blackjack = Game(Player,shrinkDeck=True,nDecks=nDecks,ratioPenetrate=ratioPenetrate,verbose=False)\n",
    "learnedRewards = np.mean(\n",
    "        [np.cumsum(evaluatePolicy(blackjack,Qlearned,wagers,nRoundsEvaluate)[0]) for _ in range(nIterations)],\n",
    "        axis=0\n",
    "    )\n",
    "\n",
    "print('Generating Meh Rewards... (mimics house play, ie. hit until 17 or greater)')\n",
    "somewhatSmartQ = initQ(['stay','hit','split','double','insurance','surrender'],allCards)\n",
    "for split,s_pairs in somewhatSmartQ.items() :\n",
    "    for s,vals in s_pairs.items() :\n",
    "        p,h,a = s\n",
    "        if split=='canSplit' :\n",
    "            if p == 'A' :\n",
    "                p = 12\n",
    "            else :\n",
    "                p = p*2\n",
    "        if p >= 17 :\n",
    "            vals['stay'] = 1\n",
    "        else :\n",
    "            vals['hit'] = 1\n",
    "\n",
    "blackjack = Game(Player,shrinkDeck=True,nDecks=nDecks,ratioPenetrate=ratioPenetrate,verbose=False)\n",
    "mehRewards = np.mean(\n",
    "    [np.cumsum(evaluatePolicy(blackjack,somewhatSmartQ,wagers,nRoundsEvaluate)[0]) for _ in range(nIterations)],\n",
    "    axis=0\n",
    ")\n",
    "\n",
    "print(\"Generating Accepted Rewards... (found online to be optimal play)\")\n",
    "blackjack = Game(Player,shrinkDeck=True,nDecks=nDecks,ratioPenetrate=ratioPenetrate,verbose=False)\n",
    "acceptedRewards = np.mean(\n",
    "        [np.cumsum(evaluatePolicy(blackjack,acceptedQ,wagers,nRoundsEvaluate)[0]) for _ in range(nIterations)],\n",
    "        axis=0\n",
    "    )\n",
    "\n",
    "print(\"Generating Random Rewards\")\n",
    "randomQ = initQ(['stay','hit','split','double','insurance','surrender'],allCards)\n",
    "blackjack = Game(Player,shrinkDeck=True,nDecks=nDecks,ratioPenetrate=ratioPenetrate,verbose=False)\n",
    "randomRewards = np.mean(\n",
    "        [np.cumsum(evaluatePolicy(blackjack,randomQ,wagers,nRoundsEvaluate)[0]) for _ in range(nIterations)],\n",
    "        axis=0\n",
    "    )\n",
    "\n",
    "print('Done')\n",
    "\n",
    "plt.title('Policy Comparison, averaging 100 games')\n",
    "plt.plot(learnedRewards,label='Learned')\n",
    "plt.plot(mehRewards,label='Meh')\n",
    "plt.plot(acceptedRewards, label=\"Good\")\n",
    "plt.plot(randomRewards, label=\"Random\")\n",
    "plt.xlabel('Round')\n",
    "plt.ylabel('Average Return')\n",
    "plt.legend()\n",
    "plt.show()"
   ]
  },
  {
   "cell_type": "markdown",
   "id": "c82fb7de",
   "metadata": {},
   "source": [
    "#### Can I replicate this, or potentially improve this, through Deep Q Learning?\n",
    "\n",
    "While we determine the Q function explicitly, this requires access to all state-action pairs.\n",
    "\n",
    "In Deep Q Learning, we are ultimately approximating the Q function through use of linear + non-linear layers in a neural network, attempting to minimized MSE between predicted and actual Q values. We will ultimately be regressing the Q value for each possible action for a given state."
   ]
  },
  {
   "cell_type": "code",
   "execution_count": 48,
   "id": "90dfa2f1",
   "metadata": {},
   "outputs": [],
   "source": [
    "class Net(nn.Module) :\n",
    "    \n",
    "    def __init__(self, input_dim, output_dim, hidden_layers=[]) :\n",
    "        super(Net, self).__init__()\n",
    "        \n",
    "        assert len(hidden_layers) , \"must have at least 1 hidden layer\"\n",
    "        \n",
    "        self.input_dim = input_dim\n",
    "        self.output_dim = output_dim\n",
    "        self.hidden_layers = hidden_layers\n",
    "        self.fc_input = nn.Linear(self.input_dim, self.hidden_layers[0])\n",
    "        self.relu = nn.ReLU()\n",
    "        \n",
    "        self.fc_hidden = []\n",
    "        for i in range(len(self.hidden_layers)-1) :\n",
    "            self.fc_hidden.append(nn.Linear(self.hidden_layers[i], self.hidden_layers[i+1]))\n",
    "            \n",
    "        self.fc_output = nn.Linear(self.hidden_layers[-1], self.output_dim)\n",
    "        \n",
    "    def forward(self, data) :\n",
    "        \n",
    "        x = self.relu(self.fc_input(data))\n",
    "        \n",
    "        for layer in self.fc_hidden :\n",
    "            x = self.relu(layer(x))\n",
    "        \n",
    "        return self.fc_output(x)\n",
    "            \n"
   ]
  },
  {
   "cell_type": "code",
   "execution_count": 58,
   "id": "c22809a4",
   "metadata": {},
   "outputs": [],
   "source": [
    "class Net(nn.Module) :\n",
    "    \n",
    "    def __init__(self, input_dim, output_dim, hidden1, hidden2) :\n",
    "        super(Net, self).__init__()\n",
    "                \n",
    "        self.input_dim = input_dim\n",
    "        self.hidden1 = hidden1\n",
    "        self.hidden2 = hidden2\n",
    "        self.output_dim = output_dim\n",
    "        self.relu = nn.ReLU()\n",
    "        self.fc_input = nn.Linear(self.input_dim, self.hidden1)\n",
    "        self.fc_hidden = nn.Linear(self.hidden1, self.hidden2)\n",
    "        self.fc_output = nn.Linear(self.hidden2, self.output_dim)\n",
    "        \n",
    "    def forward(self, data) :\n",
    "        \n",
    "        x = self.relu(self.fc_input(data))\n",
    "        x = self.relu(self.fc_hidden(x))\n",
    "        \n",
    "        \n",
    "        return self.fc_output(x)"
   ]
  },
  {
   "cell_type": "code",
   "execution_count": 59,
   "id": "ff94f608",
   "metadata": {},
   "outputs": [],
   "source": [
    "net = Net(2,5,10,12)"
   ]
  },
  {
   "cell_type": "code",
   "execution_count": 60,
   "id": "924b3260",
   "metadata": {},
   "outputs": [
    {
     "data": {
      "text/plain": [
       "tensor([-0.0208,  0.0333, -0.4782, -0.1457, -0.4285], grad_fn=<AddBackward0>)"
      ]
     },
     "execution_count": 60,
     "metadata": {},
     "output_type": "execute_result"
    }
   ],
   "source": [
    "net.forward(torch.Tensor([1,2]))"
   ]
  },
  {
   "cell_type": "code",
   "execution_count": 61,
   "id": "6ce26db9",
   "metadata": {},
   "outputs": [],
   "source": [
    "net.zero_grad()"
   ]
  },
  {
   "cell_type": "code",
   "execution_count": null,
   "id": "29b0443d",
   "metadata": {},
   "outputs": [],
   "source": []
  }
 ],
 "metadata": {
  "kernelspec": {
   "display_name": "Python 3 (ipykernel)",
   "language": "python",
   "name": "python3"
  },
  "language_info": {
   "codemirror_mode": {
    "name": "ipython",
    "version": 3
   },
   "file_extension": ".py",
   "mimetype": "text/x-python",
   "name": "python",
   "nbconvert_exporter": "python",
   "pygments_lexer": "ipython3",
   "version": "3.9.7"
  }
 },
 "nbformat": 4,
 "nbformat_minor": 5
}
