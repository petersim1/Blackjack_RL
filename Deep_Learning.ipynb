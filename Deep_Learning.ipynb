{
 "cells": [
  {
   "attachments": {},
   "cell_type": "markdown",
   "id": "2859fb16",
   "metadata": {},
   "source": [
    "# Deep Q Learning\n",
    "\n",
    "#### Can I take the findings from Q-Learning, and extend it to a deep learning framework?\n",
    "\n",
    "#### Use this framework to incorporate Card Count?"
   ]
  },
  {
   "cell_type": "code",
   "execution_count": 1,
   "id": "96b56034",
   "metadata": {},
   "outputs": [],
   "source": [
    "# For some reason, importing this first doesn't crash the kernel\n",
    "\n",
    "import torch\n",
    "import torch.nn as nn"
   ]
  },
  {
   "cell_type": "code",
   "execution_count": 2,
   "id": "263e4528",
   "metadata": {},
   "outputs": [],
   "source": [
    "%load_ext autoreload\n",
    "%autoreload 2\n",
    "\n",
    "import numpy as np\n",
    "import matplotlib.pyplot as plt\n",
    "import pandas as pd\n",
    "\n",
    "# Custom Modules.\n",
    "from src.modules.game import Game\n",
    "from src.modules.player import Player\n",
    "\n",
    "# Custom Functions.\n",
    "from src.helpers.recurse_player import recursePlayer,dealHouse,getReward,getValue\n",
    "from src.helpers.q_learning import initQ,learnPolicy,evaluatePolicy,getBestAction\n",
    "from src.helpers.plotting import dfBestMove"
   ]
  },
  {
   "cell_type": "code",
   "execution_count": 3,
   "id": "0c7c5771",
   "metadata": {},
   "outputs": [
    {
     "name": "stdout",
     "output_type": "stream",
     "text": [
      "cpu\n"
     ]
    }
   ],
   "source": [
    "device = 'cuda:0' if torch.cuda.is_available() else 'cpu'\n",
    "print(device)"
   ]
  },
  {
   "attachments": {},
   "cell_type": "markdown",
   "id": "f17c00b1",
   "metadata": {},
   "source": [
    "### Import learned Q function to be used for comparison"
   ]
  },
  {
   "cell_type": "code",
   "execution_count": 4,
   "id": "e7fe7453",
   "metadata": {},
   "outputs": [],
   "source": [
    "Qlearned = np.load('./models/Q.npy',allow_pickle=True).item()"
   ]
  },
  {
   "cell_type": "code",
   "execution_count": 5,
   "id": "f66c9459",
   "metadata": {},
   "outputs": [],
   "source": [
    "blackjack = Game(Player)\n",
    "cardMap = blackjack.cardMap\n",
    "cardValues = blackjack.cardValues\n",
    "allCards = list(cardMap.values())\n",
    "\n",
    "card_comb_all = []\n",
    "card_comb = [[c1,c2] for i,c1 in enumerate(allCards) for c2 in allCards[i:]]\n",
    "all_comb = [[c1,c2] for c1 in allCards for c2 in allCards]\n",
    "for c in card_comb :\n",
    "    for a in all_comb :\n",
    "        card_comb_all.append([[c]]+[a])"
   ]
  },
  {
   "attachments": {},
   "cell_type": "markdown",
   "id": "b2d2c576",
   "metadata": {},
   "source": [
    "### Observe distribution of Card Count in several games played.\n",
    "\n",
    "The module automatically handles reshuffling, so I can just repeat play without re-initializing the module.\n",
    "\n",
    "I have a \"ratio penetrate\" flag, which defaults to 4/6 . This means that the deck is reshuffled after it gets through 4/6'ths of the deck. I default to 6 deck game as well. You can adjust these values in the Game module.\n",
    "\n",
    "The distribution of count will be dependent on number of decks used, and ratio penetrate. Although with large ratio penetrate, the distribution might seem a bit misleading. This is because, if there is a large/small count at the point of reshuffling, we neglect the fact that if we play every card (instead of stopping short to reshuffle), the count will converge back to 0 by the end of the deck."
   ]
  },
  {
   "cell_type": "code",
   "execution_count": 6,
   "id": "ff522263",
   "metadata": {},
   "outputs": [
    {
     "data": {
      "image/png": "[encoded data removed]",
      "text/plain": [
       "<Figure size 1080x288 with 1 Axes>"
      ]
     },
     "metadata": {
      "needs_background": "light"
     },
     "output_type": "display_data"
    }
   ],
   "source": [
    "\n",
    "\n",
    "blackjack = Game(verbose=False)\n",
    "count = []\n",
    "\n",
    "for _ in range(50000) :\n",
    "    \n",
    "    count.append(blackjack.count)\n",
    "    \n",
    "    blackjack.initRound(wagers=[1])\n",
    "    blackjack.dealInit()\n",
    "    player = blackjack.players[0] # only 1 player, so i'll just extract that specific player module.\n",
    "    houseShow = blackjack.getHouseShow(showValue=True)\n",
    "\n",
    "    while not player.isDone() :\n",
    "\n",
    "        playerShow,canSplit,useableAce,card1 = player.getValue()\n",
    "\n",
    "        policy = player.getValidMoves(houseShow)\n",
    "        policy = [p for p in policy if p!='insurance']\n",
    "        if canSplit :\n",
    "            move = getBestAction(Qlearned['canSplit'][(card1,houseShow,useableAce)],policy,-1,\"epsilon\")\n",
    "        else :\n",
    "            move = getBestAction(Qlearned['noSplit'][(playerShow,houseShow,useableAce)],policy,-1,\"epsilon\")\n",
    "\n",
    "        # Gather count after every single move.\n",
    "        count.append(blackjack.count)\n",
    "\n",
    "        blackjack.stepPlayer(player,move)\n",
    "    blackjack.stepHouse()\n",
    "    \n",
    "plt.figure(figsize=(15,4))\n",
    "inds = np.argsort(pd.Series(count).value_counts(normalize=True).index.to_list())\n",
    "plt.bar(\n",
    "    pd.Series(count).value_counts(normalize=True).index[inds],\n",
    "    pd.Series(count).value_counts(normalize=True).values[inds]\n",
    ")\n",
    "samples = np.random.normal(0,np.array(count).std(), 1_000_000)\n",
    "minmax = max(abs(min(count)), max(count))\n",
    "a, b = np.histogram(samples, np.arange(-minmax-1.5, minmax+1.5), density=True)\n",
    "plt.plot([b[i-1:i+1].mean() for i in range(1,b.shape[0])], a, color=\"orange\")\n",
    "plt.xlim(-minmax, minmax)\n",
    "plt.show()"
   ]
  },
  {
   "attachments": {},
   "cell_type": "markdown",
   "id": "ae14ccb7",
   "metadata": {},
   "source": [
    "## Deep Q Learning\n",
    "\n",
    "\n",
    "The Q learning without card count is found in my previous notebook. While we determine the Q function explicitly, this requires access to all state-action pairs.\n",
    "\n",
    "In Deep Q Learning, we are ultimately approximating the Q function through use of linear + non-linear layers in a neural network, attempting to minimize MSE between predicted and actual Q values. We will ultimately be regressing the Q value for each possible action for a given state."
   ]
  },
  {
   "cell_type": "code",
   "execution_count": 7,
   "id": "90dfa2f1",
   "metadata": {},
   "outputs": [],
   "source": [
    "class Net(nn.Module) :\n",
    "    \n",
    "    def __init__(self, input_dim, output_dim, hidden_layers=[]) :\n",
    "        super(Net, self).__init__()\n",
    "        \n",
    "        assert len(hidden_layers) , \"must have at least 1 hidden layer\"\n",
    "        \n",
    "        self.input_dim = input_dim\n",
    "        self.output_dim = output_dim\n",
    "        self.hidden_layers = hidden_layers\n",
    "        self.fc_input = nn.Linear(self.input_dim, self.hidden_layers[0])\n",
    "        self.relu = nn.ReLU()\n",
    "        \n",
    "        self.fc_hidden = []\n",
    "        for i in range(len(self.hidden_layers)-1) :\n",
    "            self.fc_hidden.append(nn.Linear(self.hidden_layers[i], self.hidden_layers[i+1]))\n",
    "            \n",
    "        self.fc_output = nn.Linear(self.hidden_layers[-1], self.output_dim)\n",
    "        \n",
    "    def forward(self, data) :\n",
    "        \n",
    "        x = self.relu(self.fc_input(data))\n",
    "        \n",
    "        for layer in self.fc_hidden :\n",
    "            x = self.relu(layer(x))\n",
    "        \n",
    "        return self.fc_output(x)\n",
    "            \n"
   ]
  },
  {
   "cell_type": "code",
   "execution_count": 8,
   "id": "707768bc",
   "metadata": {},
   "outputs": [],
   "source": [
    "class EarlyStop:\n",
    "    \n",
    "    def __init__(self,patience=10,epsilon=1e-5) :\n",
    "        \n",
    "        self.allowed = 0\n",
    "        self.patience = patience\n",
    "        self.epsilon = epsilon\n",
    "        self.early_stop = False\n",
    "        self.state_dict = {}\n",
    "        self.min_loss = 9e10\n",
    "        \n",
    "    def step(self,loss,model) :\n",
    "        \n",
    "        if abs(loss - self.min_loss) < self.epsilon :\n",
    "            print('Incremental Loss is less than epsilon value...')\n",
    "            self.early_stop = True\n",
    "        if loss > self.min_loss :\n",
    "            self.allowed += 1\n",
    "        else :\n",
    "            self.min_loss = loss\n",
    "            self.state_dict = model.state_dict()\n",
    "            self.allowed = 0 # reset if the loss decreased an acceptable amount\n",
    "            \n",
    "        if self.allowed == self.patience :\n",
    "            print(f'Loss has not decreased for {self.patience} epochs')\n",
    "            self.early_stop = True"
   ]
  },
  {
   "cell_type": "code",
   "execution_count": 9,
   "id": "71034f9e",
   "metadata": {},
   "outputs": [],
   "source": [
    "class Trainer(EarlyStop):\n",
    "    \n",
    "    def __init__(self, model, loss, optimizer, use_early_stop=True):\n",
    "        EarlyStop.__init__(self)\n",
    "        self.model = model\n",
    "        self.loss = loss\n",
    "        self.optimizer = optimizer\n",
    "        self.use_early_stop = use_early_stop      \n",
    "    \n",
    "    def train_epoch(self, inputs, targets, batch_size):\n",
    "        \n",
    "        self.model.train()\n",
    "        error = 0\n",
    "        size = inputs.size()[0]\n",
    "        inds = np.random.permutation(size)\n",
    "        \n",
    "        for i in range(int(size/batch_size)):\n",
    "            \n",
    "            self.optimizer.zero_grad()\n",
    "            \n",
    "            outputs = self.model.forward(inputs[inds[i*batch_size:(i+1)*batch_size]])\n",
    "            loss = self.loss(outputs, targets[inds[i*batch_size:(i+1)*batch_size]])\n",
    "            \n",
    "            loss.backward()\n",
    "            self.optimizer.step()\n",
    "            \n",
    "            error += loss.item()\n",
    "            \n",
    "        if self.use_early_stop:\n",
    "            self.step(error * batch_size / size, self.model)\n",
    "            \n",
    "        return error * batch_size / size\n",
    "        \n",
    "    def score(self, inputs, targets):\n",
    "        \n",
    "        self.model.eval()\n",
    "        \n",
    "        outputs = self.model.forward(inputs)\n",
    "        loss = self.loss(outputs, targets)\n",
    "        \n",
    "        return loss.item()"
   ]
  },
  {
   "cell_type": "code",
   "execution_count": 54,
   "id": "ff94f608",
   "metadata": {},
   "outputs": [],
   "source": [
    "input_dim = 1\n",
    "\n",
    "net = Net(input_dim,1,[100, 100])\n",
    "\n",
    "loss_fct = nn.MSELoss()\n",
    "optimizer = torch.optim.Adam(net.parameters(), lr=0.0005)\n",
    "\n",
    "trainer = Trainer(net, loss_fct, optimizer, True)"
   ]
  },
  {
   "cell_type": "code",
   "execution_count": null,
   "id": "314add98",
   "metadata": {},
   "outputs": [],
   "source": []
  }
 ],
 "metadata": {
  "kernelspec": {
   "display_name": "Python 3 (ipykernel)",
   "language": "python",
   "name": "python3"
  },
  "language_info": {
   "codemirror_mode": {
    "name": "ipython",
    "version": 3
   },
   "file_extension": ".py",
   "mimetype": "text/x-python",
   "name": "python",
   "nbconvert_exporter": "python",
   "pygments_lexer": "ipython3",
   "version": "3.9.7"
  }
 },
 "nbformat": 4,
 "nbformat_minor": 5
}
